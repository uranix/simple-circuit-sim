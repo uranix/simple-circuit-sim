{
 "cells": [
  {
   "cell_type": "code",
   "execution_count": 1,
   "metadata": {
    "collapsed": true
   },
   "outputs": [],
   "source": [
    "import numpy as np\n",
    "from assimulo.solvers import IDA"
   ]
  },
  {
   "cell_type": "code",
   "execution_count": 2,
   "metadata": {
    "collapsed": true
   },
   "outputs": [],
   "source": [
    "class Terminal(object):\n",
    "    def __init__(self, elem, pin):\n",
    "        self.elem = elem\n",
    "        self.pin = pin\n",
    "    def assign(self, tid):\n",
    "        self.tid = tid\n",
    "    def __repr__(self):\n",
    "        return 'Pin ' + str(self.pin) + ' of ' + repr(self.elem)\n",
    "    def element(self):\n",
    "        return self.elem"
   ]
  },
  {
   "cell_type": "code",
   "execution_count": 3,
   "metadata": {
    "collapsed": true
   },
   "outputs": [],
   "source": [
    "class State(object):\n",
    "    def __init__(self, elem, name, value):\n",
    "        self.elem = elem\n",
    "        self.name = name\n",
    "        self.Q = value\n",
    "    def __repr__(self):\n",
    "        return 'State variable (' + self.name + ') of ' + repr(self.elem)\n",
    "    def element(self):\n",
    "        return self.elem"
   ]
  },
  {
   "cell_type": "code",
   "execution_count": 4,
   "metadata": {
    "collapsed": false
   },
   "outputs": [],
   "source": [
    "class Element(object):\n",
    "    def __init__(self, name, terminal_cnt, **init_state):\n",
    "        self.name = name\n",
    "        self.terminals = [Terminal(self, i) for i in range(terminal_cnt)]\n",
    "        self.states = [State(self, name, val) for name,val in init_state.items()]\n",
    "    def __getitem__(self, num):\n",
    "        return self.terminals[num]\n",
    "    def state(self, num):\n",
    "        return self.states[num]"
   ]
  },
  {
   "cell_type": "code",
   "execution_count": 5,
   "metadata": {
    "collapsed": true
   },
   "outputs": [],
   "source": [
    "class Emf(Element):\n",
    "    def __init__(self, name=None, E=5, r=0):\n",
    "        self.r = r\n",
    "        self.E = E\n",
    "        super(Emf, self).__init__(name, 2)\n",
    "    def __repr__(self):\n",
    "        title = 'EMF ' + self.name if self.name else 'Unnamed EMF'\n",
    "        return title + ' with r=%g Ohm, E=%g V' % (self.r, self.E)\n",
    "    def law(self, t):\n",
    "        E = self.E\n",
    "        eq1 = self[1].V - self[0].V - E + self[0].I * self.r\n",
    "        eq2 = self[0].I + self[1].I\n",
    "        return np.array([eq1, eq2])"
   ]
  },
  {
   "cell_type": "code",
   "execution_count": 6,
   "metadata": {
    "collapsed": true
   },
   "outputs": [],
   "source": [
    "class Resistor(Element):\n",
    "    def __init__(self, name=None, R=100):\n",
    "        self.R = R\n",
    "        super(Resistor, self).__init__(name, 2)\n",
    "    def __repr__(self):\n",
    "        title = 'Resistor ' + self.name if self.name else 'Unnamed resistor'\n",
    "        return title + ' with R=%g Ohm' % (self.R)\n",
    "    def law(self, t):\n",
    "        eq1 = self[1].V - self[0].V + self[0].I * self.R\n",
    "        eq2 = self[0].I + self[1].I\n",
    "        return np.array([eq1, eq2])"
   ]
  },
  {
   "cell_type": "code",
   "execution_count": 7,
   "metadata": {
    "collapsed": false
   },
   "outputs": [],
   "source": [
    "class Capacitor(Element):\n",
    "    def __init__(self, name=None, C=1e-5, U0=0):\n",
    "        self.C = C\n",
    "        super(Capacitor, self).__init__(name, 2, Voltage=U0)\n",
    "        self.Voltage = self.state(0)\n",
    "    def __repr__(self):\n",
    "        title = 'Capacitor ' + self.name if self.name else 'Unnamed capacitor'\n",
    "        return title + ' with C=%g F' % (self.C)        \n",
    "    def law(self, t):\n",
    "        eq1 = self[0].I + self.C * self.Voltage.dQdt\n",
    "        eq2 = self[0].I + self[1].I\n",
    "        eq3 = self[1].V - self[0].V - self.Voltage.Q\n",
    "        return np.array([eq1, eq2, eq3])"
   ]
  },
  {
   "cell_type": "code",
   "execution_count": 8,
   "metadata": {
    "collapsed": true
   },
   "outputs": [],
   "source": [
    "class Inductor(Element):\n",
    "    def __init__(self, name=None, L=1e-3, I0=0):\n",
    "        self.L = L\n",
    "        super(Inductor, self).__init__(name, 2, Current=I0)\n",
    "        self.Current = self.state(0)\n",
    "    def __repr__(self):\n",
    "        title = 'Inductor ' + self.name if self.name else 'Unnamed inductor'\n",
    "        return title + ' with L=%g H' % (self.L)        \n",
    "    def law(self, t):\n",
    "        eq1 = self[1].V - self[0].V + self.L * self.Current.dQdt\n",
    "        eq2 = self[0].I + self[1].I\n",
    "        eq3 = self[0].I - self.Current.Q\n",
    "        return np.array([eq1, eq2, eq3])"
   ]
  },
  {
   "cell_type": "code",
   "execution_count": 9,
   "metadata": {
    "collapsed": true
   },
   "outputs": [],
   "source": [
    "class Ground(Element):\n",
    "    def __init__(self, name=None):\n",
    "        super(Ground, self).__init__(name, 1)\n",
    "    def __repr__(self):\n",
    "        title = 'Ground ' + self.name if self.name else 'Unnamed ground'\n",
    "        return title        \n",
    "    def law(self, t):\n",
    "        eq1 = self[0].V\n",
    "        return np.array([eq1])\n",
    "    \n",
    "class NotConnected(Element):\n",
    "    def __init__(self, name=None):\n",
    "        super(NotConnected, self).__init__(name, 1)\n",
    "    def __repr__(self):\n",
    "        title = 'Not connected terminal ' + self.name if self.name else 'Unnamed NC terminal'\n",
    "        return title           \n",
    "    def law(self, t):\n",
    "        eq1 = self[0].I\n",
    "        return np.array([eq1])"
   ]
  },
  {
   "cell_type": "code",
   "execution_count": 10,
   "metadata": {
    "collapsed": false
   },
   "outputs": [],
   "source": [
    "from scipy.sparse import csr_matrix, csgraph\n",
    "from assimulo.problem import Implicit_Problem\n",
    "\n",
    "class Circuit(Implicit_Problem):\n",
    "    def __init__(self, name=None):\n",
    "        self.connections = set()\n",
    "        self.terminals = set()\n",
    "        self.connected_terminals = set()\n",
    "        self.elements = set()\n",
    "        self.states = []\n",
    "        self.name = name if name else repr(self)\n",
    "        \n",
    "    def add_element(self, elem):\n",
    "        if elem in self.elements:\n",
    "            return\n",
    "        self.elements.add(elem)\n",
    "        self.terminals |= set(elem.terminals)\n",
    "        self.states += elem.states\n",
    "        \n",
    "    def connect(self, *args):\n",
    "        for term in args:\n",
    "            self.add_element(term.element())\n",
    "            self.connected_terminals.add(term)\n",
    "        for i in range(1, len(args)):\n",
    "            self.connections.add((args[i-1], args[i]))\n",
    "            \n",
    "    def process_not_connected(self):\n",
    "        \"\"\"\n",
    "        Присоединить к каждому неподсоединенному выводу экземпляр NotConnected\n",
    "        \"\"\"\n",
    "        terminals_to_connect = self.terminals - self.connected_terminals\n",
    "        for i,term in enumerate(terminals_to_connect):\n",
    "            nc = NotConnected('NC[auto]' + str(i))\n",
    "            self.connect(term, nc[0])    \n",
    "        assert self.connected_terminals == self.terminals\n",
    "        \n",
    "    def enumerate_terminals(self):\n",
    "        ordered_terminals = []\n",
    "        for i,term in enumerate(self.terminals):\n",
    "            term.assign(i)\n",
    "            ordered_terminals.append(term) \n",
    "        self.ordered_terminals = ordered_terminals\n",
    "    \n",
    "    def build_connection_graph(self):\n",
    "        edges = np.empty((2, len(self.connections)), dtype=np.int)\n",
    "        for i,(t1,t2) in enumerate(self.connections):\n",
    "            edges[:, i] = t1.tid, t2.tid\n",
    "        vals = np.ones(edges.shape[1])\n",
    "        nterm = len(self.terminals)\n",
    "        return csr_matrix((vals, edges), shape=(nterm, nterm))   \n",
    "    \n",
    "    def generate_nodes(self):\n",
    "        \"\"\"\n",
    "        Из списка соединений [(t1, t2), (t1, t5), (t2, t3), (t4, t6), ...]\n",
    "        выделить связные компоненты - узлы\n",
    "        \n",
    "        узел  присоединенные выводы\n",
    "        0     set(t1, t2, t3, t5)\n",
    "        1     set(t4, t6)\n",
    "        ...\n",
    "        \"\"\"\n",
    "        self.process_not_connected()\n",
    "        # Нумеруем все выводы\n",
    "        self.enumerate_terminals()\n",
    "        # Составляем CSR граф соединений выводов\n",
    "        graph = self.build_connection_graph()\n",
    "        # И ищем в нем компоненты связности - узлы схемы\n",
    "        nodes_num, labels = csgraph.connected_components(graph, directed=False)\n",
    "        nodes = [set() for _ in range(nodes_num)]\n",
    "        for i,label in enumerate(labels):\n",
    "            nodes[label].add(self.ordered_terminals[i])\n",
    "        self.nodes = nodes\n",
    "    \n",
    "    def assemble(self, verbose=True):\n",
    "        self.generate_nodes()\n",
    "        if verbose:\n",
    "            print('Nodes:', len(self.nodes))\n",
    "            print('Terminals:', len(self.terminals))\n",
    "            print('States:', len(self.states))\n",
    "            for i, node in enumerate(self.nodes):\n",
    "                print('Var ', i, ': Node', i, 'voltage')\n",
    "                for t in node:\n",
    "                    print('\\t', t)\n",
    "            for i,term in enumerate(self.terminals):\n",
    "                print('Var ', i+len(self.nodes), ':', term, 'current')\n",
    "            for i,state in enumerate(self.states):\n",
    "                print('Var ', i+len(self.nodes)+len(self.terminals), ':', state)\n",
    "        nvars = len(self.nodes) + len(self.terminals) + len(self.states)\n",
    "        \n",
    "        self.t0 = 0.\n",
    "        self.y0 = np.zeros(nvars)\n",
    "        self.yd0 = np.zeros(nvars)\n",
    "        for i,state in enumerate(self.states):\n",
    "            self.y0[i+len(self.nodes)+len(self.terminals)] = state.Q\n",
    "            \n",
    "        self.algvar = self.get_algebraic_variables()\n",
    "    \n",
    "    def res(self, t, y, yd):\n",
    "        ncnt = len(self.nodes)\n",
    "        nterm = len(self.terminals)\n",
    "        \n",
    "        Vs    = y [:ncnt]\n",
    "        dVsdt = yd[:ncnt]\n",
    "        Is    = y [ncnt:(ncnt+nterm)]\n",
    "        dIsdt = yd[ncnt:(ncnt+nterm)]\n",
    "        Qs    = y [(ncnt+nterm):]\n",
    "        dQsdt = yd[(ncnt+nterm):]\n",
    "\n",
    "        r = []\n",
    "        # Учитываем правила Кирхгофа для каждого узла:\n",
    "        # сумма токов равна 0\n",
    "        for node in self.nodes:\n",
    "            Isum = 0\n",
    "            for term in node:\n",
    "                Isum += Is[term.tid]\n",
    "            r.append(Isum)\n",
    "        \n",
    "        # Задаем потенциалы и токи на выводах\n",
    "        for i,node in enumerate(self.nodes):\n",
    "            for term in node:\n",
    "                term.V    = Vs[i]\n",
    "                term.dVdt = dVsdt[i]\n",
    "                \n",
    "        for i,term in enumerate(self.terminals):\n",
    "            term.I    = Is[i]\n",
    "            term.dIdt = dIsdt[i]\n",
    "            \n",
    "        # Задаем переменные состояния\n",
    "        for i,state in enumerate(self.states):\n",
    "            state.Q    = Qs[i]\n",
    "            state.dQdt = dQsdt[i]\n",
    "            \n",
    "        # Учитываем уравнения элементов\n",
    "        for elem in self.elements:\n",
    "            r += list(elem.law(t))\n",
    "            \n",
    "        assert len(r) == len(y)\n",
    "        return np.array(r)\n",
    "    \n",
    "    def get_algebraic_variables(self):\n",
    "        \"\"\"\n",
    "        Алгебраические переменные - потенциалы V и токи I\n",
    "        Переменные состояния считаем дифференциальными\n",
    "        для них заданы начальные условия\n",
    "        \"\"\"\n",
    "        r = np.zeros(len(self.y0))\n",
    "        r[-len(self.states):] = 1.\n",
    "        return r\n",
    "    \n",
    "    def simulate(self, tmax, nout=500, rtol=1e-8, verbose=False):\n",
    "        if not hasattr(self, 't0'):\n",
    "            self.assemble(verbose)\n",
    "        sim = IDA(self)\n",
    "        flag, _, _ = sim.make_consistent('IDA_YA_YDP_INIT')\n",
    "        if flag != 0:\n",
    "            raise ArithmeticError('make_consistent failed with flag = %d' % flag)\n",
    "        sim.rtol = rtol\n",
    "        T,Y,Yd = sim.simulate(tmax, nout)\n",
    "        ncnt  = len(self.nodes)\n",
    "        nterm = len(self.terminals)\n",
    "        \n",
    "        self.T = T\n",
    "        Vs    = Y [:, :ncnt]\n",
    "        dVsdt = Yd[:, :ncnt]\n",
    "        Is    = Y [:, ncnt:(ncnt+nterm)]\n",
    "        dIsdt = Yd[:, ncnt:(ncnt+nterm)]\n",
    "        Qs    = Y [:, (ncnt+nterm):]\n",
    "        dQsdt = Yd[:, (ncnt+nterm):]\n",
    "        \n",
    "        for i,node in enumerate(self.nodes):\n",
    "            for term in node:\n",
    "                term.V    = Vs[:, i]\n",
    "                term.dVdt = dVsdt[:, i]\n",
    "                \n",
    "        for i,term in enumerate(self.terminals):\n",
    "            term.I    = Is[:, i]\n",
    "            term.dIdt = dIsdt[:, i]\n",
    "            \n",
    "        # Задаем переменные состояния\n",
    "        for i,state in enumerate(self.states):\n",
    "            state.Q    = Qs[:, i]\n",
    "            state.dQdt = dQsdt[:, i]        "
   ]
  },
  {
   "cell_type": "code",
   "execution_count": 11,
   "metadata": {
    "collapsed": false
   },
   "outputs": [],
   "source": [
    "E1 = Emf(\"E1\", 5)\n",
    "R1 = Resistor(\"R1\", R=1e3)\n",
    "R2 = Resistor(\"R2\", R=1e4)\n",
    "C1 = Capacitor(\"C1\", C=1e-3)\n",
    "GND = Ground(\"GND\")"
   ]
  },
  {
   "cell_type": "code",
   "execution_count": 12,
   "metadata": {
    "collapsed": false
   },
   "outputs": [
    {
     "name": "stdout",
     "output_type": "stream",
     "text": [
      "Final Run Statistics: Simple1 \n",
      "\n",
      " Number of steps                                 : 104\n",
      " Number of function evaluations                  : 132\n",
      " Number of Jacobian evaluations                  : 20\n",
      " Number of function eval. due to Jacobian eval.  : 260\n",
      " Number of error test failures                   : 1\n",
      " Number of nonlinear iterations                  : 132\n",
      " Number of nonlinear convergence failures        : 0\n",
      "\n",
      "Solver options:\n",
      "\n",
      " Solver                       : IDA (BDF)\n",
      " Maximal order                : 5\n",
      " Suppressed algebr. variables : False\n",
      " Tolerances (absolute)        : 1e-06\n",
      " Tolerances (relative)        : 1e-08\n",
      "\n",
      "Simulation interval    : 0.0 - 5.0 seconds.\n",
      "Elapsed simulation time: 0.017847261973656714 seconds.\n"
     ]
    }
   ],
   "source": [
    "c = Circuit(\"Simple1\")\n",
    "c.connect(E1[1], R1[0])\n",
    "c.connect(E1[0], C1[0])\n",
    "c.connect(C1[1], R1[1])\n",
    "c.connect(R2[0], C1[0])\n",
    "c.connect(R2[1], C1[1])\n",
    "c.connect(GND[0], E1[1])\n",
    "c.simulate(5)"
   ]
  },
  {
   "cell_type": "code",
   "execution_count": 13,
   "metadata": {
    "collapsed": false
   },
   "outputs": [
    {
     "data": {
      "image/png": "[encoded data removed]",
      "text/plain": [
       "<matplotlib.figure.Figure at 0x7fce93e9f7b8>"
      ]
     },
     "metadata": {},
     "output_type": "display_data"
    },
    {
     "data": {
      "image/png": "[encoded data removed]",
      "text/plain": [
       "<matplotlib.figure.Figure at 0x7fce90fbf9e8>"
      ]
     },
     "metadata": {},
     "output_type": "display_data"
    }
   ],
   "source": [
    "import matplotlib.pyplot as plt\n",
    "%matplotlib inline\n",
    "\n",
    "plt.plot(c.T, C1.Voltage.Q, label='C1 Voltage, V')\n",
    "plt.plot(c.T, C1[0].V, label='C1 pin 0 pot., V')\n",
    "plt.plot(c.T, C1[1].V, label='C1 pin 1 pot., V')\n",
    "plt.legend(loc='center left', bbox_to_anchor=((1, 0.5)))\n",
    "plt.grid()\n",
    "plt.figure()\n",
    "plt.plot(c.T, R1[0].I, label='R1 Current, A')\n",
    "plt.plot(c.T, R2[1].I, label='R2 Current, A')\n",
    "plt.legend(loc='center left', bbox_to_anchor=((1, 0.5)))\n",
    "plt.grid()\n",
    "plt.show()"
   ]
  },
  {
   "cell_type": "code",
   "execution_count": 17,
   "metadata": {
    "collapsed": false
   },
   "outputs": [],
   "source": [
    "E1 = Emf(\"E1\", 5)\n",
    "R1 = Resistor(\"R1\", R=1)\n",
    "L1 = Inductor(\"L1\", L=1)\n",
    "GND = Ground(\"GND\")"
   ]
  },
  {
   "cell_type": "code",
   "execution_count": 18,
   "metadata": {
    "collapsed": false
   },
   "outputs": [
    {
     "name": "stdout",
     "output_type": "stream",
     "text": [
      "Final Run Statistics: RL \n",
      "\n",
      " Number of steps                                 : 91\n",
      " Number of function evaluations                  : 110\n",
      " Number of Jacobian evaluations                  : 18\n",
      " Number of function eval. due to Jacobian eval.  : 198\n",
      " Number of error test failures                   : 1\n",
      " Number of nonlinear iterations                  : 110\n",
      " Number of nonlinear convergence failures        : 0\n",
      "\n",
      "Solver options:\n",
      "\n",
      " Solver                       : IDA (BDF)\n",
      " Maximal order                : 5\n",
      " Suppressed algebr. variables : False\n",
      " Tolerances (absolute)        : 1e-06\n",
      " Tolerances (relative)        : 1e-08\n",
      "\n",
      "Simulation interval    : 0.0 - 5.0 seconds.\n",
      "Elapsed simulation time: 0.012879610992968082 seconds.\n"
     ]
    }
   ],
   "source": [
    "c2 = Circuit(\"RL\")\n",
    "c2.connect(E1[1], R1[0])\n",
    "c2.connect(R1[1], L1[1])\n",
    "c2.connect(E1[0], L1[0])\n",
    "c2.connect(E1[1], GND[0])\n",
    "c2.simulate(5)"
   ]
  },
  {
   "cell_type": "code",
   "execution_count": 22,
   "metadata": {
    "collapsed": false
   },
   "outputs": [
    {
     "data": {
      "image/png": "[encoded data removed]",
      "text/plain": [
       "<matplotlib.figure.Figure at 0x7fce90a79da0>"
      ]
     },
     "metadata": {},
     "output_type": "display_data"
    },
    {
     "data": {
      "image/png": "[encoded data removed]",
      "text/plain": [
       "<matplotlib.figure.Figure at 0x7fce909bc978>"
      ]
     },
     "metadata": {},
     "output_type": "display_data"
    }
   ],
   "source": [
    "plt.plot(c2.T, L1.Current.Q, label='L1 Current, A')\n",
    "plt.legend(loc='center left', bbox_to_anchor=((1, 0.5)))\n",
    "plt.grid()\n",
    "plt.figure()\n",
    "plt.plot(c2.T, L1[0].V, label='L1 pin 0 voltage, V')\n",
    "plt.plot(c2.T, L1[1].V, label='L1 pin 1 voltage, V')\n",
    "plt.legend(loc='center left', bbox_to_anchor=((1, 0.5)))\n",
    "plt.grid()\n",
    "plt.show()"
   ]
  },
  {
   "cell_type": "code",
   "execution_count": 27,
   "metadata": {
    "collapsed": false
   },
   "outputs": [],
   "source": [
    "C1 = Capacitor(\"C1\", C=1, U0=1)\n",
    "L1 = Inductor(\"L1\", L=1)\n",
    "GND = Ground(\"GND\")"
   ]
  },
  {
   "cell_type": "code",
   "execution_count": 28,
   "metadata": {
    "collapsed": false
   },
   "outputs": [
    {
     "name": "stdout",
     "output_type": "stream",
     "text": [
      "Final Run Statistics: LC contour \n",
      "\n",
      " Number of steps                                 : 267\n",
      " Number of function evaluations                  : 286\n",
      " Number of Jacobian evaluations                  : 15\n",
      " Number of function eval. due to Jacobian eval.  : 135\n",
      " Number of error test failures                   : 0\n",
      " Number of nonlinear iterations                  : 286\n",
      " Number of nonlinear convergence failures        : 0\n",
      "\n",
      "Solver options:\n",
      "\n",
      " Solver                       : IDA (BDF)\n",
      " Maximal order                : 5\n",
      " Suppressed algebr. variables : False\n",
      " Tolerances (absolute)        : 1e-06\n",
      " Tolerances (relative)        : 1e-08\n",
      "\n",
      "Simulation interval    : 0.0 - 20.0 seconds.\n",
      "Elapsed simulation time: 0.01483274600468576 seconds.\n"
     ]
    }
   ],
   "source": [
    "c3 = Circuit(\"LC contour\")\n",
    "c3.connect(C1[0], L1[0])\n",
    "c3.connect(C1[1], L1[1])\n",
    "c3.connect(C1[1], GND[0])\n",
    "c3.simulate(20)"
   ]
  },
  {
   "cell_type": "code",
   "execution_count": 31,
   "metadata": {
    "collapsed": false
   },
   "outputs": [
    {
     "data": {
      "image/png": "[encoded data removed]",
      "text/plain": [
       "<matplotlib.figure.Figure at 0x7fce934b2668>"
      ]
     },
     "metadata": {},
     "output_type": "display_data"
    },
    {
     "data": {
      "image/png": "[encoded data removed]",
      "text/plain": [
       "<matplotlib.figure.Figure at 0x7fce90740278>"
      ]
     },
     "metadata": {},
     "output_type": "display_data"
    }
   ],
   "source": [
    "plt.plot(c3.T, C1.Voltage.Q, label='C1 Voltage, V')\n",
    "plt.legend(loc='center left', bbox_to_anchor=((1, 0.5)))\n",
    "plt.grid()\n",
    "plt.figure()\n",
    "plt.plot(c3.T, L1.Current.Q, label='L1 Current, A')\n",
    "plt.legend(loc='center left', bbox_to_anchor=((1, 0.5)))\n",
    "plt.grid()"
   ]
  }
 ],
 "metadata": {
  "anaconda-cloud": {},
  "kernelspec": {
   "display_name": "Python [Root]",
   "language": "python",
   "name": "Python [Root]"
  },
  "language_info": {
   "codemirror_mode": {
    "name": "ipython",
    "version": 3
   },
   "file_extension": ".py",
   "mimetype": "text/x-python",
   "name": "python",
   "nbconvert_exporter": "python",
   "pygments_lexer": "ipython3",
   "version": "3.5.2"
  }
 },
 "nbformat": 4,
 "nbformat_minor": 0
}
